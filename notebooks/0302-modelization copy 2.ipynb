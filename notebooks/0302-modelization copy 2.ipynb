{
 "cells": [
  {
   "cell_type": "markdown",
   "metadata": {},
   "source": [
    "## OS"
   ]
  },
  {
   "cell_type": "code",
   "execution_count": null,
   "metadata": {},
   "outputs": [],
   "source": [
    "cd .."
   ]
  },
  {
   "cell_type": "markdown",
   "metadata": {},
   "source": [
    "## Imports "
   ]
  },
  {
   "cell_type": "code",
   "execution_count": null,
   "metadata": {},
   "outputs": [],
   "source": [
    "from src.imports import *\n",
    "from src.transformers import *\n",
    "from src.helpers import *\n",
    "from src.vars import *\n",
    "from src.tools import *"
   ]
  },
  {
   "cell_type": "markdown",
   "metadata": {},
   "source": [
    "## Data"
   ]
  },
  {
   "cell_type": "code",
   "execution_count": null,
   "metadata": {},
   "outputs": [],
   "source": [
    "train = pd.read_csv(\"data/source/train.csv\")\n",
    "test = pd.read_csv(\"data/source/test.csv\")"
   ]
  },
  {
   "cell_type": "markdown",
   "metadata": {},
   "source": [
    "## Split "
   ]
  },
  {
   "cell_type": "code",
   "execution_count": null,
   "metadata": {},
   "outputs": [],
   "source": [
    "X = train.drop(\"Transported\", axis=1)\n",
    "y = train[\"Transported\"]"
   ]
  },
  {
   "cell_type": "markdown",
   "metadata": {},
   "source": [
    "## pipe and params"
   ]
  },
  {
   "cell_type": "code",
   "execution_count": null,
   "metadata": {},
   "outputs": [],
   "source": [
    "# pipeline = Pipeline(\n",
    "#     [\n",
    "#         (\"column_selector\", ColumnSelector()),\n",
    "#         (\"log_transformer\", LogTransformer()),\n",
    "#         (\"preprocessor\", ColumnTransformer([])),\n",
    "#         (\"sampler_1\", RandomUnderSampler()),\n",
    "#         (\"imputer\", KNNImputer()),\n",
    "#         (\"scaler\", StandardScaler()),\n",
    "#         (\"sampler_2\", RandomUnderSampler()),\n",
    "#         (\"estimator\", LogisticRegression()),\n",
    "#     ]\n",
    "# )"
   ]
  },
  {
   "cell_type": "code",
   "execution_count": null,
   "metadata": {},
   "outputs": [],
   "source": [
    "# param_grid = {\n",
    "#     \"log_transformer__threshold\": [0.5, 0.75,1, 1.5],\n",
    "#     \"preprocessor__transformers\": [t1],\n",
    "#     \"sampler_1\": [, \"passthrough\"],\n",
    "#     \"scaler\": scaler_list,\n",
    "#     \"sampler_2\": [RandomUnderSampler(), \"passthrough\"],\n",
    "#     \"estimator\": [\n",
    "#     LogisticRegression(),\n",
    "#     RandomForestClassifier(max_depth=128, min_samples_split=4, n_estimators=1280)\n",
    "\n",
    "#     ],\n",
    "# }"
   ]
  },
  {
   "cell_type": "markdown",
   "metadata": {},
   "source": [
    "## Train"
   ]
  },
  {
   "cell_type": "code",
   "execution_count": null,
   "metadata": {},
   "outputs": [],
   "source": [
    "# grid\n",
    "grid = GridSearchCV(\n",
    "    pipeline,\n",
    "    param_grid,\n",
    "    cv=cv(n=10, test_size=0.2),\n",
    "    scoring=\"accuracy\",\n",
    "    n_jobs=12,\n",
    "    return_train_score=True,\n",
    "    verbose=1,\n",
    "    refit=True,\n",
    ")\n",
    "\n",
    "# fit\n",
    "grid.fit(X, y)\n",
    "\n",
    "# results\n",
    "res = resultize(grid)\n",
    "\n",
    "# save & push\n",
    "save_predict_all(grid)\n",
    "commit_push(res.mean_test_score.iloc[0])\n",
    "\n",
    "# display\n",
    "res"
   ]
  },
  {
   "cell_type": "code",
   "execution_count": null,
   "metadata": {},
   "outputs": [],
   "source": [
    "# grid 2\n",
    "grid_2 = GridSearchCV(\n",
    "    pipeline,\n",
    "    param_grid,\n",
    "    cv=10,\n",
    "    scoring=\"accuracy\",\n",
    "    n_jobs=12,\n",
    "    return_train_score=True,\n",
    "    verbose=2,\n",
    "    refit=True,\n",
    ")\n",
    "\n",
    "# fit\n",
    "grid_2.fit(X, y)\n",
    "\n",
    "# results\n",
    "res_2 = resultize(grid_2)\n",
    "\n",
    "# save & push\n",
    "save_predict_all(grid_2)\n",
    "commit_push(res_2.mean_test_score.iloc[0])\n",
    "\n",
    "# display\n",
    "res_2"
   ]
  },
  {
   "cell_type": "code",
   "execution_count": null,
   "metadata": {},
   "outputs": [],
   "source": [
    "1 / 0"
   ]
  },
  {
   "cell_type": "markdown",
   "metadata": {},
   "source": [
    "## fine tuning"
   ]
  },
  {
   "cell_type": "code",
   "execution_count": null,
   "metadata": {},
   "outputs": [],
   "source": [
    "preprocessor = grid.best_estimator_[:-2]\n",
    "preprocessor"
   ]
  },
  {
   "cell_type": "code",
   "execution_count": null,
   "metadata": {},
   "outputs": [],
   "source": [
    "_X = preprocessor.transform(X)\n",
    "_X"
   ]
  },
  {
   "cell_type": "code",
   "execution_count": null,
   "metadata": {},
   "outputs": [],
   "source": [
    "pipeline_fine = Pipeline(\n",
    "    [\n",
    "        (\"sampler\", RandomUnderSampler()),\n",
    "        (\"estimator\", RandomForestClassifier()),\n",
    "    ]\n",
    ")"
   ]
  },
  {
   "cell_type": "code",
   "execution_count": null,
   "metadata": {},
   "outputs": [],
   "source": [
    "param_grid_fine = {\n",
    "    \"estimator__n_estimators\": [40, 80, 160, 320, 640, 1280],\n",
    "    # \"estimator__max_depth\": [None,  4, 8, 16, 32, 64, 128],\n",
    "    # \"estimator__min_samples_split\": [ None, 4,  8, 16, 32, 64, 129],\n",
    "    # \"estimator__oob_score\": [True, False],\n",
    "    # \"estimator__criterion\": [\"gini\" ], # \"entropy\", \"log_loss\"\n",
    "}"
   ]
  },
  {
   "cell_type": "code",
   "execution_count": null,
   "metadata": {},
   "outputs": [],
   "source": [
    "cardinality(param_grid_fine)"
   ]
  },
  {
   "cell_type": "code",
   "execution_count": null,
   "metadata": {},
   "outputs": [],
   "source": [
    "grid_fine = HalvingGridSearchCV(\n",
    "    pipeline_fine,\n",
    "    param_grid_fine,\n",
    "    cv=5,\n",
    "    scoring=\"accuracy\",\n",
    "    n_jobs=12,\n",
    "    return_train_score=True,\n",
    "    verbose=1,\n",
    "    refit=True,\n",
    "    aggressive_elimination=True,\n",
    ")\n",
    "grid_fine"
   ]
  },
  {
   "cell_type": "code",
   "execution_count": null,
   "metadata": {},
   "outputs": [],
   "source": [
    "grid_fine.fit(_X, y)"
   ]
  },
  {
   "cell_type": "code",
   "execution_count": null,
   "metadata": {},
   "outputs": [],
   "source": [
    "grid_fine.best_estimator_"
   ]
  },
  {
   "cell_type": "code",
   "execution_count": null,
   "metadata": {},
   "outputs": [],
   "source": [
    "res_fine = resultize(grid_fine)\n",
    "res_fine"
   ]
  },
  {
   "cell_type": "code",
   "execution_count": null,
   "metadata": {},
   "outputs": [],
   "source": []
  }
 ],
 "metadata": {
  "kernelspec": {
   "display_name": ".venv",
   "language": "python",
   "name": "python3"
  },
  "language_info": {
   "codemirror_mode": {
    "name": "ipython",
    "version": 3
   },
   "file_extension": ".py",
   "mimetype": "text/x-python",
   "name": "python",
   "nbconvert_exporter": "python",
   "pygments_lexer": "ipython3",
   "version": "3.10.12"
  }
 },
 "nbformat": 4,
 "nbformat_minor": 2
}
