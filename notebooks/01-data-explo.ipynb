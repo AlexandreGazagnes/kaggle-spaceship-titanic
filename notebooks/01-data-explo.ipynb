{
 "cells": [
  {
   "cell_type": "code",
   "execution_count": null,
   "metadata": {},
   "outputs": [],
   "source": [
    "cd .."
   ]
  },
  {
   "cell_type": "code",
   "execution_count": null,
   "metadata": {},
   "outputs": [],
   "source": [
    "from src.imports import *\n",
    "from src.transformers import *\n",
    "from src.helpers import *\n",
    "from src.vars import *\n",
    "from src.tools import *"
   ]
  },
  {
   "cell_type": "code",
   "execution_count": null,
   "metadata": {},
   "outputs": [],
   "source": [
    "train = pd.read_csv(\"data/source/train.csv\")"
   ]
  },
  {
   "cell_type": "code",
   "execution_count": null,
   "metadata": {},
   "outputs": [],
   "source": [
    "test = pd.read_csv(\"data/source/test.csv\")"
   ]
  },
  {
   "cell_type": "code",
   "execution_count": null,
   "metadata": {},
   "outputs": [],
   "source": [
    "train"
   ]
  },
  {
   "cell_type": "code",
   "execution_count": null,
   "metadata": {},
   "outputs": [],
   "source": [
    "train.shape"
   ]
  },
  {
   "cell_type": "code",
   "execution_count": null,
   "metadata": {},
   "outputs": [],
   "source": [
    "train.info()"
   ]
  },
  {
   "cell_type": "code",
   "execution_count": null,
   "metadata": {},
   "outputs": [],
   "source": [
    "train.dtypes"
   ]
  },
  {
   "cell_type": "code",
   "execution_count": null,
   "metadata": {},
   "outputs": [],
   "source": [
    "train.dtypes.value_counts()"
   ]
  },
  {
   "cell_type": "code",
   "execution_count": null,
   "metadata": {},
   "outputs": [],
   "source": [
    "train.describe(include=np.number).round(2)"
   ]
  },
  {
   "cell_type": "code",
   "execution_count": null,
   "metadata": {},
   "outputs": [],
   "source": [
    "dd = train.describe(exclude=np.number).round(2)\n",
    "dd"
   ]
  },
  {
   "cell_type": "code",
   "execution_count": null,
   "metadata": {},
   "outputs": [],
   "source": [
    "train.Transported = train.Transported.astype(int)\n",
    "train"
   ]
  },
  {
   "cell_type": "code",
   "execution_count": null,
   "metadata": {},
   "outputs": [],
   "source": [
    "X = train.drop(\"Transported\", axis=1)\n",
    "y = train[\"Transported\"]"
   ]
  },
  {
   "cell_type": "code",
   "execution_count": null,
   "metadata": {},
   "outputs": [],
   "source": [
    "dd = dd.T\n",
    "dd"
   ]
  },
  {
   "cell_type": "code",
   "execution_count": null,
   "metadata": {},
   "outputs": [],
   "source": []
  },
  {
   "cell_type": "code",
   "execution_count": null,
   "metadata": {},
   "outputs": [],
   "source": [
    "DISPLAY = False\n",
    "FRAC = 0.1"
   ]
  },
  {
   "cell_type": "code",
   "execution_count": null,
   "metadata": {},
   "outputs": [],
   "source": [
    "if DISPLAY:\n",
    "    sns.pairplot(train.sample(frac=FRAC), corner=True, hue=\"Transported\")"
   ]
  },
  {
   "cell_type": "code",
   "execution_count": null,
   "metadata": {},
   "outputs": [],
   "source": []
  },
  {
   "cell_type": "code",
   "execution_count": null,
   "metadata": {},
   "outputs": [],
   "source": [
    "pipeline"
   ]
  },
  {
   "cell_type": "code",
   "execution_count": null,
   "metadata": {},
   "outputs": [],
   "source": [
    "# pipeline = Pipeline(\n",
    "#     [\n",
    "#         (\"column_selector\", ColumnSelector()),\n",
    "#         (\"log_transformer\", LogTransformer()),\n",
    "#         (\"preprocessor\", ColumnTransformer([])),\n",
    "#         (\"sampler_1\", RandomUnderSampler()),\n",
    "#         (\"imputer\", KNNImputer()),\n",
    "#         (\"scaler\", StandardScaler()),\n",
    "#         (\"sampler_2\", RandomUnderSampler()),\n",
    "#         (\"estimator\", LogisticRegression()),\n",
    "#     ]\n",
    "# )"
   ]
  },
  {
   "cell_type": "code",
   "execution_count": null,
   "metadata": {},
   "outputs": [],
   "source": [
    "# param_grid = {\n",
    "#     \"log_transformer__threshold\": [0.5, 1, 3, 5, 10, 7, 12],\n",
    "#     \"preprocessor__transformers\": [t0, t1],\n",
    "#     \"sampler_1\": [RandomUnderSampler(), \"passthrough\"],\n",
    "#     \"scaler\": scaler_list,\n",
    "#     \"sampler_2\": [RandomUnderSampler(), \"passthrough\"],\n",
    "#     \"estimator\": [\n",
    "#         LogisticRegression(),\n",
    "#     ],\n",
    "# }"
   ]
  },
  {
   "cell_type": "code",
   "execution_count": null,
   "metadata": {},
   "outputs": [],
   "source": [
    "# param_grid = {\n",
    "#     \"estimator\":[ RandomForestClassifier(),],\n",
    "#     \"log_transformer__threshold\":[ 0.5, 1, 3,],\n",
    "#     \"preprocessor__transformers\":[ t1,],\n",
    "#     \"sampler_1\":[ \"passthrough\",],\n",
    "#     \"sampler_2\":[ \"passthrough\",],\n",
    "#     \"scaler\":[ \"passthrough\"],\n",
    "# }"
   ]
  },
  {
   "cell_type": "code",
   "execution_count": null,
   "metadata": {},
   "outputs": [],
   "source": [
    "scaler_list"
   ]
  },
  {
   "cell_type": "code",
   "execution_count": null,
   "metadata": {},
   "outputs": [],
   "source": [
    "param_grid = {\n",
    "    \"log_transformer__threshold\": [0.3, 0.5, 0.75],\n",
    "    \"preprocessor__transformers\": [t1],\n",
    "    \"sampler_1\": [\"passthrough\"],  #  RandomUnderSampler()\n",
    "    \"sampler_2\": [\"passthrough\", RandomUnderSampler()],\n",
    "    \"scaler\": scaler_list,\n",
    "    \"estimator\": [\n",
    "        RandomForestClassifier(max_depth=128, min_samples_split=4, n_estimators=1280)\n",
    "    ],\n",
    "}"
   ]
  },
  {
   "cell_type": "code",
   "execution_count": null,
   "metadata": {},
   "outputs": [],
   "source": [
    "grid = GridSearchCV(\n",
    "    pipeline,\n",
    "    param_grid,\n",
    "    cv=cv(n=10, test_size=0.2),\n",
    "    scoring=\"accuracy\",\n",
    "    n_jobs=12,\n",
    "    return_train_score=True,\n",
    "    verbose=2,\n",
    "    refit=True,\n",
    "    \n",
    ")\n",
    "\n",
    "grid.fit(X, y)\n",
    "\n",
    "res = resultize(grid)\n",
    "res"
   ]
  },
  {
   "cell_type": "code",
   "execution_count": null,
   "metadata": {},
   "outputs": [],
   "source": [
    "save_predict_all(grid)"
   ]
  },
  {
   "cell_type": "code",
   "execution_count": null,
   "metadata": {},
   "outputs": [],
   "source": [
    "grid_2 = GridSearchCV(\n",
    "    pipeline,\n",
    "    param_grid,\n",
    "    cv=10,\n",
    "    scoring=\"accuracy\",\n",
    "    n_jobs=12,\n",
    "    return_train_score=True,\n",
    "    verbose=2,\n",
    "    refit=True,\n",
    "    \n",
    ")\n",
    "\n",
    "grid_2.fit(X, y)\n",
    "\n",
    "res_2 = resultize(grid_2)\n",
    "res_2"
   ]
  },
  {
   "cell_type": "code",
   "execution_count": null,
   "metadata": {},
   "outputs": [],
   "source": [
    "RandomForestClassifier"
   ]
  },
  {
   "cell_type": "code",
   "execution_count": null,
   "metadata": {},
   "outputs": [],
   "source": []
  },
  {
   "cell_type": "code",
   "execution_count": null,
   "metadata": {},
   "outputs": [],
   "source": [
    "# grid_ = grid.best_estimator_.fit(X,y)"
   ]
  },
  {
   "cell_type": "code",
   "execution_count": null,
   "metadata": {},
   "outputs": [],
   "source": []
  },
  {
   "cell_type": "code",
   "execution_count": null,
   "metadata": {},
   "outputs": [],
   "source": []
  },
  {
   "cell_type": "code",
   "execution_count": null,
   "metadata": {},
   "outputs": [],
   "source": []
  },
  {
   "cell_type": "code",
   "execution_count": null,
   "metadata": {},
   "outputs": [],
   "source": []
  },
  {
   "cell_type": "code",
   "execution_count": null,
   "metadata": {},
   "outputs": [],
   "source": [
    "grid.best_estimator_[:-2]"
   ]
  },
  {
   "cell_type": "code",
   "execution_count": null,
   "metadata": {},
   "outputs": [],
   "source": [
    "_X = grid.best_estimator_[:-2].transform(X)\n",
    "_X"
   ]
  },
  {
   "cell_type": "code",
   "execution_count": null,
   "metadata": {},
   "outputs": [],
   "source": [
    "pipeline_2 = Pipeline(\n",
    "    [\n",
    "        (\"sampler\", RandomUnderSampler()),\n",
    "        (\"estimator\", RandomForestClassifier()),\n",
    "    ]\n",
    ")\n"
   ]
  },
  {
   "cell_type": "code",
   "execution_count": null,
   "metadata": {},
   "outputs": [],
   "source": [
    "from itertools import product\n"
   ]
  },
  {
   "cell_type": "code",
   "execution_count": null,
   "metadata": {},
   "outputs": [],
   "source": [
    "param_grid_2 = {\n",
    "    \"estimator__n_estimators\": [ 40, 80, 160, 320, 640, 1280],\n",
    "    \"estimator__max_depth\": [None,  4, 8, 16, 32, 64, 128],\n",
    "    \"estimator__min_samples_split\": [ None, 4,  8, 16, 32, 64, 129],\n",
    "    \"estimator__oob_score\": [True, False],\n",
    "    \"estimator__criterion\": [\"gini\" ], # \"entropy\", \"log_loss\"\n",
    "}"
   ]
  },
  {
   "cell_type": "code",
   "execution_count": null,
   "metadata": {},
   "outputs": [],
   "source": [
    "len(list(product(*param_grid_2.values())))"
   ]
  },
  {
   "cell_type": "markdown",
   "metadata": {},
   "source": []
  },
  {
   "cell_type": "code",
   "execution_count": null,
   "metadata": {},
   "outputs": [],
   "source": [
    "grid_2 = HalvingGridSearchCV(\n",
    "    pipeline_2,\n",
    "    param_grid_2,\n",
    "    cv=5,\n",
    "    scoring=\"accuracy\",\n",
    "    n_jobs=12,\n",
    "    return_train_score=True,\n",
    "    verbose=1,\n",
    "    refit=True,\n",
    "    aggressive_elimination=True,\n",
    "    \n",
    ")\n",
    "grid_2"
   ]
  },
  {
   "cell_type": "code",
   "execution_count": null,
   "metadata": {},
   "outputs": [],
   "source": [
    "grid_2.fit(_X, y)"
   ]
  },
  {
   "cell_type": "code",
   "execution_count": null,
   "metadata": {},
   "outputs": [],
   "source": [
    "grid_2.best_estimator_"
   ]
  },
  {
   "cell_type": "code",
   "execution_count": null,
   "metadata": {},
   "outputs": [],
   "source": [
    "res_2 = resultize(grid_2)\n",
    "res_2"
   ]
  },
  {
   "cell_type": "code",
   "execution_count": null,
   "metadata": {},
   "outputs": [],
   "source": [
    "save_predict_all(grid)"
   ]
  },
  {
   "cell_type": "code",
   "execution_count": null,
   "metadata": {},
   "outputs": [],
   "source": [
    "1/0"
   ]
  },
  {
   "cell_type": "code",
   "execution_count": null,
   "metadata": {},
   "outputs": [],
   "source": []
  },
  {
   "cell_type": "code",
   "execution_count": null,
   "metadata": {},
   "outputs": [],
   "source": []
  },
  {
   "cell_type": "code",
   "execution_count": null,
   "metadata": {},
   "outputs": [],
   "source": []
  },
  {
   "cell_type": "code",
   "execution_count": null,
   "metadata": {},
   "outputs": [],
   "source": [
    "param_grid = {\n",
    "    \"log_transformer__threshold\": [3, 5, 10, 7, 12],\n",
    "    \"preprocessor__transformers\": [t0, t1],\n",
    "    \"sampler_1\": [RandomUnderSampler(), \"passthrough\"],\n",
    "    \"scaler\": [\"passthrough\", StandardScaler(), Normalizer()],\n",
    "    \"sampler_2\": [\"passthrough\"],\n",
    "    \"estimator\": [\n",
    "        RandomForestClassifier(),\n",
    "    ],\n",
    "}"
   ]
  },
  {
   "cell_type": "code",
   "execution_count": null,
   "metadata": {},
   "outputs": [],
   "source": [
    "grid = GridSearchCV(\n",
    "    pipeline,\n",
    "    param_grid,\n",
    "    cv=5,  # StratifiedShuffleSplit(n_splits=10, test_size=0.2, random_state=42)\n",
    "    scoring=\"accuracy\",\n",
    "    n_jobs=12,\n",
    "    return_train_score=True,\n",
    "    verbose=1,\n",
    ")\n",
    "\n",
    "grid.fit(X, y)"
   ]
  },
  {
   "cell_type": "code",
   "execution_count": null,
   "metadata": {},
   "outputs": [],
   "source": [
    "res = resultize(grid).head(10)\n",
    "res"
   ]
  },
  {
   "cell_type": "code",
   "execution_count": null,
   "metadata": {},
   "outputs": [],
   "source": [
    "grid"
   ]
  },
  {
   "cell_type": "code",
   "execution_count": null,
   "metadata": {},
   "outputs": [],
   "source": [
    "test"
   ]
  },
  {
   "cell_type": "code",
   "execution_count": null,
   "metadata": {},
   "outputs": [],
   "source": []
  },
  {
   "cell_type": "code",
   "execution_count": null,
   "metadata": {},
   "outputs": [],
   "source": [
    "train"
   ]
  },
  {
   "cell_type": "code",
   "execution_count": null,
   "metadata": {},
   "outputs": [],
   "source": [
    "def find_bool(X) : \n",
    "\n",
    "    ser = X.iloc[0]\n",
    "\n",
    "\n",
    "    print(ser)\n",
    "\n",
    "    print(ser.dtypes)\n",
    "\n",
    "\n",
    "find_bool(train)"
   ]
  },
  {
   "cell_type": "code",
   "execution_count": null,
   "metadata": {},
   "outputs": [],
   "source": [
    "v = train.iloc[0].CryoSleep\n",
    "v"
   ]
  },
  {
   "cell_type": "code",
   "execution_count": null,
   "metadata": {},
   "outputs": [],
   "source": [
    "type(v)"
   ]
  },
  {
   "cell_type": "code",
   "execution_count": null,
   "metadata": {},
   "outputs": [],
   "source": [
    "np.bool_"
   ]
  },
  {
   "cell_type": "code",
   "execution_count": null,
   "metadata": {},
   "outputs": [],
   "source": [
    "X.CryoSleep.astype(int)"
   ]
  },
  {
   "cell_type": "code",
   "execution_count": null,
   "metadata": {},
   "outputs": [],
   "source": [
    "bool_cols=[\"CryoSleep\", \"VIP\"]"
   ]
  },
  {
   "cell_type": "code",
   "execution_count": null,
   "metadata": {},
   "outputs": [],
   "source": [
    "_X = X.copy()"
   ]
  },
  {
   "cell_type": "code",
   "execution_count": null,
   "metadata": {},
   "outputs": [],
   "source": [
    "\n",
    "for col in bool_cols : \n",
    "    _X[col] = _X[col].replace({True: 1, False: 0})"
   ]
  },
  {
   "cell_type": "code",
   "execution_count": null,
   "metadata": {},
   "outputs": [],
   "source": [
    "_X"
   ]
  },
  {
   "cell_type": "code",
   "execution_count": null,
   "metadata": {},
   "outputs": [],
   "source": [
    "split_cols=[\"Cabin\"]"
   ]
  },
  {
   "cell_type": "code",
   "execution_count": null,
   "metadata": {},
   "outputs": [],
   "source": [
    "for col in split_cols : \n",
    "    for i in range(2) : \n",
    "        _X[col+_i] = _X[col].apply(lambda i : i.split(\"/\")[i])\n",
    "\n"
   ]
  },
  {
   "cell_type": "code",
   "execution_count": null,
   "metadata": {},
   "outputs": [],
   "source": [
    "c = X.iloc[0].Cabin\n",
    "c"
   ]
  },
  {
   "cell_type": "code",
   "execution_count": null,
   "metadata": {},
   "outputs": [],
   "source": [
    "X.Cabin.isna().mean()"
   ]
  },
  {
   "cell_type": "code",
   "execution_count": null,
   "metadata": {},
   "outputs": [],
   "source": [
    "for col in split_cols :\n",
    "    for i in range(2) : \n",
    "        _X[col+_i] = _X[col].apply(lambda i : i.split(\"/\")[i] if isinstance(i, str) else i  )\n"
   ]
  },
  {
   "cell_type": "code",
   "execution_count": null,
   "metadata": {},
   "outputs": [],
   "source": [
    "for col in split_cols :\n",
    "    for i in range(2) : \n",
    "        _X[col+f\"_{i}\"] = _X[col].apply(lambda i : i.split(\"/\")[i] if isinstance(i, str) else i  )\n"
   ]
  },
  {
   "cell_type": "code",
   "execution_count": null,
   "metadata": {},
   "outputs": [],
   "source": [
    "for col in split_cols :\n",
    "    for i in range(3) : \n",
    "        _X[col+f\"_{i}\"] = _X[col].apply(lambda val : val.split(\"/\")[i] if isinstance(val, str) else val  )\n",
    "        try : \n",
    "            _X[col+f\"_{i}\"] = _X[col+f\"_{i}\"].astype(float)\n",
    "        except Exception as e : \n",
    "            pass\n"
   ]
  },
  {
   "cell_type": "code",
   "execution_count": null,
   "metadata": {},
   "outputs": [],
   "source": []
  },
  {
   "cell_type": "code",
   "execution_count": null,
   "metadata": {},
   "outputs": [],
   "source": [
    "split_cols"
   ]
  },
  {
   "cell_type": "code",
   "execution_count": null,
   "metadata": {},
   "outputs": [],
   "source": [
    "_X"
   ]
  },
  {
   "cell_type": "code",
   "execution_count": null,
   "metadata": {},
   "outputs": [],
   "source": [
    "_X.Cabin_0.value_counts()"
   ]
  },
  {
   "cell_type": "code",
   "execution_count": null,
   "metadata": {},
   "outputs": [],
   "source": [
    "_X.Cabin_1.value_counts()"
   ]
  },
  {
   "cell_type": "code",
   "execution_count": null,
   "metadata": {},
   "outputs": [],
   "source": [
    "_X.Cabin_2.value_counts()"
   ]
  },
  {
   "cell_type": "code",
   "execution_count": null,
   "metadata": {},
   "outputs": [],
   "source": [
    "_X.Name"
   ]
  },
  {
   "cell_type": "code",
   "execution_count": null,
   "metadata": {},
   "outputs": [],
   "source": [
    "ser = _X.Name.apply(lambda i : len(i.split(\" \")) if isinstance(i, str) else i)"
   ]
  },
  {
   "cell_type": "code",
   "execution_count": null,
   "metadata": {},
   "outputs": [],
   "source": [
    "ser"
   ]
  },
  {
   "cell_type": "code",
   "execution_count": null,
   "metadata": {},
   "outputs": [],
   "source": [
    "ser.value_counts()"
   ]
  },
  {
   "cell_type": "code",
   "execution_count": null,
   "metadata": {},
   "outputs": [],
   "source": [
    "ser =  _X.Name.apply(lambda i : len(i) if isinstance(i, str) else i)\n"
   ]
  },
  {
   "cell_type": "code",
   "execution_count": null,
   "metadata": {},
   "outputs": [],
   "source": [
    "ser"
   ]
  },
  {
   "cell_type": "code",
   "execution_count": null,
   "metadata": {},
   "outputs": [],
   "source": [
    "            # _X.Name.apply(lambda i : len(i.split(\" \")) if isinstance(i, str) else i) # no because only 2 on train\n",
    "            _X[\"_len_Name\"] = _X.Name.apply(lambda i : len(i) if isinstance(i, str) else i)\n",
    "            _X[\"_FirstName\"] = _X.Name.apply(lambda i : i.split(\" \")[0] if isinstance(i, str) else i)\n",
    "            _X[\"_LastName\"] = _X.Name.apply(lambda i : i.split(\" \")[1] if isinstance(i, str) else i)\n",
    "\n"
   ]
  },
  {
   "cell_type": "code",
   "execution_count": null,
   "metadata": {},
   "outputs": [],
   "source": [
    "_X"
   ]
  },
  {
   "cell_type": "code",
   "execution_count": null,
   "metadata": {},
   "outputs": [],
   "source": [
    "_X.isna().mean().round(2)"
   ]
  },
  {
   "cell_type": "code",
   "execution_count": null,
   "metadata": {},
   "outputs": [],
   "source": [
    "tmp = _X.isna().mean(axis=1).round(2)\n",
    "tmp"
   ]
  },
  {
   "cell_type": "code",
   "execution_count": null,
   "metadata": {},
   "outputs": [],
   "source": [
    "tmp[tmp>0.0].sort_values()"
   ]
  },
  {
   "cell_type": "code",
   "execution_count": null,
   "metadata": {},
   "outputs": [],
   "source": [
    "_X._LastName.value_counts().to_dict()"
   ]
  },
  {
   "cell_type": "code",
   "execution_count": null,
   "metadata": {},
   "outputs": [],
   "source": [
    "[1] if isinstance(i, str) else i)\n",
    "            family_dict = _X._LastName.value_counts().to_dict()\n",
    "            _X[\"_FamilySize\"] = _X[\"_LastName\"].replace(family_dict"
   ]
  },
  {
   "cell_type": "code",
   "execution_count": null,
   "metadata": {},
   "outputs": [],
   "source": [
    "family_dict = _X._LastName.value_counts().to_dict()\n",
    "_X[\"_FamilySize\"] = _X[\"_LastName\"].replace(family_dict)"
   ]
  },
  {
   "cell_type": "code",
   "execution_count": null,
   "metadata": {},
   "outputs": [],
   "source": [
    "_X.drop(columns=[], errors=\"ignore\")"
   ]
  },
  {
   "cell_type": "code",
   "execution_count": null,
   "metadata": {},
   "outputs": [],
   "source": [
    "_X.Cabin_0.unique()"
   ]
  },
  {
   "cell_type": "code",
   "execution_count": null,
   "metadata": {},
   "outputs": [],
   "source": [
    "import string"
   ]
  },
  {
   "cell_type": "code",
   "execution_count": null,
   "metadata": {},
   "outputs": [],
   "source": [
    "string.ascii_uppercase"
   ]
  },
  {
   "cell_type": "code",
   "execution_count": null,
   "metadata": {},
   "outputs": [],
   "source": []
  },
  {
   "cell_type": "code",
   "execution_count": null,
   "metadata": {},
   "outputs": [],
   "source": [
    "cab_dict = {i:j for j,i in enumerate(string.ascii_uppercase)}\n",
    "cab_dict"
   ]
  },
  {
   "cell_type": "code",
   "execution_count": null,
   "metadata": {},
   "outputs": [],
   "source": []
  },
  {
   "cell_type": "code",
   "execution_count": null,
   "metadata": {},
   "outputs": [],
   "source": [
    "for col in split_cols :\n",
    "    for i in range(3) : \n",
    "        _X[f\"_{col}_{i}\"] = _X[col].apply(lambda val : val.split(\"/\")[i].upper() if isinstance(val, str) else val  )\n",
    "        try : \n",
    "            _X[f\"_{col}_{i}\"] = _X[f\"_{col}_{i}\"].astype(float)\n",
    "        except Exception as e : \n",
    "            _X[f\"_{col}_{i}_int\"] =  _X[f\"_{col}_{i}\"].replace(cab_dict)\n"
   ]
  },
  {
   "cell_type": "code",
   "execution_count": null,
   "metadata": {},
   "outputs": [],
   "source": [
    "_X.iloc[:,  3:]"
   ]
  },
  {
   "cell_type": "code",
   "execution_count": null,
   "metadata": {},
   "outputs": [],
   "source": []
  }
 ],
 "metadata": {
  "kernelspec": {
   "display_name": ".venv",
   "language": "python",
   "name": "python3"
  },
  "language_info": {
   "codemirror_mode": {
    "name": "ipython",
    "version": 3
   },
   "file_extension": ".py",
   "mimetype": "text/x-python",
   "name": "python",
   "nbconvert_exporter": "python",
   "pygments_lexer": "ipython3",
   "version": "3.10.12"
  }
 },
 "nbformat": 4,
 "nbformat_minor": 2
}
